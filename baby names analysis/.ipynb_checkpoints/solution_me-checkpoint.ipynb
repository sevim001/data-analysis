{
 "cells": [
  {
   "cell_type": "code",
   "execution_count": 1,
   "id": "e12caba2",
   "metadata": {},
   "outputs": [],
   "source": [
    "import math\n",
    "import collections\n",
    "\n",
    "import numpy as np\n",
    "import pandas as pd\n",
    "import matplotlib.pyplot as pp\n",
    "\n",
    "%matplotlib inline"
   ]
  },
  {
   "cell_type": "code",
   "execution_count": 2,
   "id": "6f5b2f41",
   "metadata": {},
   "outputs": [],
   "source": [
    "pd.options.display.max_rows = 10"
   ]
  },
  {
   "cell_type": "code",
   "execution_count": 3,
   "id": "d0ffa552",
   "metadata": {},
   "outputs": [],
   "source": [
    "allyears = pd.read_csv('allyears.csv.gz')"
   ]
  },
  {
   "cell_type": "code",
   "execution_count": 4,
   "id": "5b20f1f6",
   "metadata": {},
   "outputs": [],
   "source": [
    "totalls = allyears.groupby([\"sex\",\"name\"]).number.sum()"
   ]
  },
  {
   "cell_type": "code",
   "execution_count": 5,
   "id": "fa32181f",
   "metadata": {},
   "outputs": [
    {
     "data": {
      "text/plain": [
       "sex  name     \n",
       "F    Aabha        35\n",
       "     Aabidah       5\n",
       "     Aabriella    38\n",
       "     Aada         13\n",
       "     Aadaya        8\n",
       "                  ..\n",
       "M    Zyus         11\n",
       "     Zyvion        5\n",
       "     Zyvon         7\n",
       "     Zyyon         6\n",
       "     Zzyzx        10\n",
       "Name: number, Length: 109173, dtype: int64"
      ]
     },
     "execution_count": 5,
     "metadata": {},
     "output_type": "execute_result"
    }
   ],
   "source": [
    "totalls"
   ]
  },
  {
   "cell_type": "code",
   "execution_count": 9,
   "id": "32f2cc30",
   "metadata": {},
   "outputs": [],
   "source": [
    "male , female = totalls.loc[\"F\"] ,totalls.loc[\"M\"]"
   ]
  },
  {
   "cell_type": "code",
   "execution_count": 10,
   "id": "d051e70c",
   "metadata": {},
   "outputs": [
    {
     "data": {
      "text/plain": [
       "name\n",
       "Aabha        35\n",
       "Aabidah       5\n",
       "Aabriella    38\n",
       "Aada         13\n",
       "Aadaya        8\n",
       "             ..\n",
       "Zyrielle     27\n",
       "Zyrihanna    45\n",
       "Zyriyah      16\n",
       "Zyva         23\n",
       "Zyyanna       6\n",
       "Name: number, Length: 67698, dtype: int64"
      ]
     },
     "execution_count": 10,
     "metadata": {},
     "output_type": "execute_result"
    }
   ],
   "source": [
    "male"
   ]
  },
  {
   "cell_type": "code",
   "execution_count": 11,
   "id": "d95bf130",
   "metadata": {},
   "outputs": [
    {
     "data": {
      "text/plain": [
       "name\n",
       "Aaban     114\n",
       "Aabid      16\n",
       "Aabir      10\n",
       "Aadam     273\n",
       "Aadan     130\n",
       "         ... \n",
       "Zyus       11\n",
       "Zyvion      5\n",
       "Zyvon       7\n",
       "Zyyon       6\n",
       "Zzyzx      10\n",
       "Name: number, Length: 41475, dtype: int64"
      ]
     },
     "execution_count": 11,
     "metadata": {},
     "output_type": "execute_result"
    }
   ],
   "source": [
    "female"
   ]
  },
  {
   "cell_type": "code",
   "execution_count": 17,
   "id": "b4f4959c",
   "metadata": {},
   "outputs": [],
   "source": [
    "ratios = (totalls.loc['M'] / totalls.loc['F']).dropna()"
   ]
  },
  {
   "cell_type": "code",
   "execution_count": 18,
   "id": "1f1d84a5",
   "metadata": {},
   "outputs": [],
   "source": [
    "# names that fit the unisex ratio constraint\n",
    "unisex = ratios[(ratios > 0.5) & (ratios < 2)].index"
   ]
  },
  {
   "cell_type": "code",
   "execution_count": 19,
   "id": "918ae7a5",
   "metadata": {},
   "outputs": [
    {
     "data": {
      "text/plain": [
       "Index(['Aalijah', 'Aamari', 'Aari', 'Aarin', 'Aaris', 'Aaryn', 'Aavyn', 'Abey',\n",
       "       'Abrar', 'Abriel',\n",
       "       ...\n",
       "       'Zell', 'Zi', 'Ziel', 'Zihan', 'Zixuan', 'Ziyan', 'Zoel', 'Zohar',\n",
       "       'Zyian', 'Zyrie'],\n",
       "      dtype='object', name='name', length=1660)"
      ]
     },
     "execution_count": 19,
     "metadata": {},
     "output_type": "execute_result"
    }
   ],
   "source": [
    "unisex"
   ]
  },
  {
   "cell_type": "code",
   "execution_count": null,
   "id": "70d08016",
   "metadata": {},
   "outputs": [],
   "source": []
  }
 ],
 "metadata": {
  "kernelspec": {
   "display_name": "Python 3 (ipykernel)",
   "language": "python",
   "name": "python3"
  },
  "language_info": {
   "codemirror_mode": {
    "name": "ipython",
    "version": 3
   },
   "file_extension": ".py",
   "mimetype": "text/x-python",
   "name": "python",
   "nbconvert_exporter": "python",
   "pygments_lexer": "ipython3",
   "version": "3.11.5"
  }
 },
 "nbformat": 4,
 "nbformat_minor": 5
}
